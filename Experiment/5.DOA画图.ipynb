{
 "cells": [
  {
   "cell_type": "code",
   "execution_count": 1,
   "metadata": {},
   "outputs": [],
   "source": [
    "import pandas as pd\n",
    "import numpy as np\n",
    "import matplotlib.pyplot as plt\n",
    "%matplotlib inline"
   ]
  },
  {
   "cell_type": "code",
   "execution_count": 2,
   "metadata": {},
   "outputs": [
    {
     "data": {
      "text/html": [
       "<div>\n",
       "<style scoped>\n",
       "    .dataframe tbody tr th:only-of-type {\n",
       "        vertical-align: middle;\n",
       "    }\n",
       "\n",
       "    .dataframe tbody tr th {\n",
       "        vertical-align: top;\n",
       "    }\n",
       "\n",
       "    .dataframe thead th {\n",
       "        text-align: right;\n",
       "    }\n",
       "</style>\n",
       "<table border=\"1\" class=\"dataframe\">\n",
       "  <thead>\n",
       "    <tr style=\"text-align: right;\">\n",
       "      <th></th>\n",
       "      <th>ASSIST0910</th>\n",
       "      <th>ASSIST2017</th>\n",
       "      <th>JunYi</th>\n",
       "      <th>MathEC</th>\n",
       "    </tr>\n",
       "    <tr>\n",
       "      <th>model</th>\n",
       "      <th></th>\n",
       "      <th></th>\n",
       "      <th></th>\n",
       "      <th></th>\n",
       "    </tr>\n",
       "  </thead>\n",
       "  <tbody>\n",
       "    <tr>\n",
       "      <th>DINA</th>\n",
       "      <td>0.8626</td>\n",
       "      <td>0.8122</td>\n",
       "      <td>0.8244</td>\n",
       "      <td>0.8093</td>\n",
       "    </tr>\n",
       "    <tr>\n",
       "      <th>NCDM</th>\n",
       "      <td>0.8714</td>\n",
       "      <td>0.8205</td>\n",
       "      <td>0.8331</td>\n",
       "      <td>0.8170</td>\n",
       "    </tr>\n",
       "    <tr>\n",
       "      <th>CDGK</th>\n",
       "      <td>0.8583</td>\n",
       "      <td>0.7915</td>\n",
       "      <td>0.8113</td>\n",
       "      <td>0.8708</td>\n",
       "    </tr>\n",
       "    <tr>\n",
       "      <th>CICDM-A</th>\n",
       "      <td>0.9007</td>\n",
       "      <td>0.8702</td>\n",
       "      <td>0.9155</td>\n",
       "      <td>0.8903</td>\n",
       "    </tr>\n",
       "    <tr>\n",
       "      <th>CICDM+</th>\n",
       "      <td>0.9001</td>\n",
       "      <td>0.8698</td>\n",
       "      <td>0.9158</td>\n",
       "      <td>0.8907</td>\n",
       "    </tr>\n",
       "  </tbody>\n",
       "</table>\n",
       "</div>"
      ],
      "text/plain": [
       "         ASSIST0910  ASSIST2017   JunYi  MathEC\n",
       "model                                          \n",
       "DINA         0.8626      0.8122  0.8244  0.8093\n",
       "NCDM         0.8714      0.8205  0.8331  0.8170\n",
       "CDGK         0.8583      0.7915  0.8113  0.8708\n",
       "CICDM-A      0.9007      0.8702  0.9155  0.8903\n",
       "CICDM+       0.9001      0.8698  0.9158  0.8907"
      ]
     },
     "execution_count": 2,
     "metadata": {},
     "output_type": "execute_result"
    }
   ],
   "source": [
    "data=pd.DataFrame([\n",
    "    ['DINA',   0.8626,0.8122,0.8244,0.8093],\n",
    "    ['NCDM',   0.8714,0.8205,0.8331,0.8170],\n",
    "    ['CDGK',   0.8583,0.7915,0.8113,0.8708],\n",
    "    ['CICDM-A',0.9007,0.8702,0.9155,0.8903],\n",
    "    ['CICDM+', 0.9001,0.8698,0.9158,0.8907]\n",
    "],columns=['model','ASSIST0910','ASSIST2017','JunYi','MathEC']).set_index(['model'])\n",
    "data"
   ]
  },
  {
   "cell_type": "code",
   "execution_count": 3,
   "metadata": {},
   "outputs": [],
   "source": [
    "a09=list(data['ASSIST0910'])\n",
    "a17=list(data['ASSIST2017'])\n",
    "junyi=list(data['JunYi'])\n",
    "math=list(data['MathEC'])"
   ]
  },
  {
   "cell_type": "code",
   "execution_count": 6,
   "metadata": {},
   "outputs": [
    {
     "data": {
      "image/png": "[encoded data removed]",
      "text/plain": [
       "<Figure size 576x432 with 1 Axes>"
      ]
     },
     "metadata": {
      "needs_background": "light"
     },
     "output_type": "display_data"
    }
   ],
   "source": [
    "# 坐标轴的刻度设置向内(in)或向外(out)\n",
    "plt.rcParams['xtick.direction'] = 'in'\n",
    "plt.rcParams['ytick.direction'] = 'in'\n",
    "\n",
    "labels=['ASSIST0910', 'ASSIST2017', 'JunYi', 'MathEC']\n",
    "yticklabels=['0.75','0.80','0.85','0.90','0.95']\n",
    "hatch_list=['||','\\\\\\\\','//','--','+']\n",
    "color_list=['#3274a1','#e1812c','#3a923a','#cb3335','#d8b445']\n",
    "legend=['DINA','NCDM','CDGK','ICD-A','ICD+']\n",
    "\n",
    "x=np.arange(len(labels))*2\n",
    "width = 0.3  # the width of the bars\n",
    "\n",
    "fig, ax = plt.subplots(figsize=(8,6))\n",
    "\n",
    "rects1 = ax.bar(x - 2*width, data.loc['DINA',:], 0.9*width, label=legend[0],zorder=2,hatch=hatch_list[0],color=color_list[0])\n",
    "rects2 = ax.bar(x - 1*width, data.loc['NCDM',:], 0.9*width, label=legend[1],zorder=2,hatch=hatch_list[1],color=color_list[1])\n",
    "rects3 = ax.bar(x + 0*width, data.loc['CDGK',:], 0.9*width, label=legend[2],zorder=2,hatch=hatch_list[2],color=color_list[2])\n",
    "rects4 = ax.bar(x + 1*width, data.loc['CICDM-A',:], 0.9*width, label=legend[3],zorder=2,hatch=hatch_list[3],color=color_list[3])\n",
    "rects4 = ax.bar(x + 2*width, data.loc['CICDM+',:], 0.9*width, label=legend[4],zorder=2,hatch=hatch_list[4],color=color_list[4])\n",
    "\n",
    "#去掉边框\n",
    "ax.spines['right'].set_visible(False)\n",
    "ax.spines['top'].set_visible(False)\n",
    "\n",
    "plt.grid(axis='y',linestyle = '-',zorder=0)\n",
    "\n",
    "ax.set_ylim((0.75,0.95))\n",
    "ax.set_yticks([0.75,0.80,0.85,0.90,0.95])\n",
    "ax.set_yticklabels(yticklabels,fontproperties = 'Times New Roman', size = 15)\n",
    "ax.set_ylabel('DOA',fontdict={'family':'Times New Roman', 'size': 18})\n",
    "ax.set_xticks(x)\n",
    "ax.set_xticklabels(labels,fontproperties = 'Times New Roman', size = 16)\n",
    "ax.legend(legend,bbox_to_anchor=(0.64,0.78),\n",
    "          framealpha=0.9,ncol=2,\n",
    "          labelspacing=0.3,handlelength=1.2,fancybox=False,\n",
    "          prop={'family':'Times New Roman', 'size': 15})\n",
    "\n",
    "plt.savefig('output/doa.jpg',dpi=1200,bbox_inches='tight')\n",
    "plt.show()"
   ]
  }
 ],
 "metadata": {
  "interpreter": {
   "hash": "527a93331b4b1a8345148922acc34427fb7591433d63b66d32040b6fbbc6d593"
  },
  "kernelspec": {
   "display_name": "Python 3.8.12 ('pytorch')",
   "language": "python",
   "name": "python3"
  },
  "language_info": {
   "codemirror_mode": {
    "name": "ipython",
    "version": 3
   },
   "file_extension": ".py",
   "mimetype": "text/x-python",
   "name": "python",
   "nbconvert_exporter": "python",
   "pygments_lexer": "ipython3",
   "version": "3.8.13"
  },
  "orig_nbformat": 4
 },
 "nbformat": 4,
 "nbformat_minor": 2
}
