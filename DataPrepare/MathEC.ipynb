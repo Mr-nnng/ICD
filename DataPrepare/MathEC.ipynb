{
 "cells": [
  {
   "cell_type": "code",
   "execution_count": 1,
   "metadata": {},
   "outputs": [],
   "source": [
    "import os\n",
    "import pandas as pd\n",
    "import numpy as np\n",
    "import json"
   ]
  },
  {
   "cell_type": "code",
   "execution_count": 2,
   "metadata": {},
   "outputs": [],
   "source": [
    "read_dir='E:/文档/数据集/MathEC/'\n",
    "\n",
    "save_dir='../data/math_ec/'\n",
    "\n",
    "record_data=pd.read_csv(read_dir+'train_task_1_2.csv')\n",
    "item_conc_data=pd.read_csv(read_dir+'question_metadata_task_1_2.csv')\n",
    "conc_data=pd.read_csv(read_dir+'subject_metadata.csv')\n",
    "\n",
    "prob_count_limit=15 #每个学生做过的习题下限"
   ]
  },
  {
   "cell_type": "code",
   "execution_count": 3,
   "metadata": {},
   "outputs": [],
   "source": [
    "conc_data.columns=['knowledge_code','name','parent','level']"
   ]
  },
  {
   "cell_type": "code",
   "execution_count": 4,
   "metadata": {},
   "outputs": [
    {
     "name": "stdout",
     "output_type": "stream",
     "text": [
      "有效的学生数： 118971\n"
     ]
    }
   ],
   "source": [
    "record=record_data.loc[:,['UserId','QuestionId','IsCorrect']]\\\n",
    "    .drop_duplicates(subset=['UserId','QuestionId'],keep='first').dropna(axis=0,how='any')\n",
    "\n",
    "# 统计每个学生做了多少道题\n",
    "problem_counter=record.groupby(by='UserId').count()\n",
    "\n",
    "filtered_stu_boundary=prob_count_limit #学生做的题超过15道才算数\n",
    "\n",
    "filtered_stu_id=problem_counter[problem_counter['QuestionId']>filtered_stu_boundary].index.to_numpy()\n",
    "\n",
    "print('有效的学生数：',len(filtered_stu_id))\n",
    "\n",
    "record=record.set_index('UserId').loc[filtered_stu_id,:].reset_index()\n",
    "record.columns=['user_id','item_id','score']"
   ]
  },
  {
   "cell_type": "code",
   "execution_count": 5,
   "metadata": {},
   "outputs": [],
   "source": [
    "item_conc_data.columns=['item_id','knowledge_code']\n",
    "item_conc_data=item_conc_data.set_index('item_id')\n",
    "item_conc_data=item_conc_data[~item_conc_data.index.duplicated()]"
   ]
  },
  {
   "cell_type": "code",
   "execution_count": 6,
   "metadata": {},
   "outputs": [],
   "source": [
    "item_unique=np.unique(record['item_id'])"
   ]
  },
  {
   "cell_type": "code",
   "execution_count": 7,
   "metadata": {},
   "outputs": [],
   "source": [
    "iten_list,know_list=[],[]\n",
    "for item in item_unique:\n",
    "    item_knows=eval(item_conc_data.loc[item,'knowledge_code'])\n",
    "    iten_list.extend([item]*len(item_knows))\n",
    "    know_list.extend(item_knows)\n",
    "item_open_df=pd.DataFrame({'item_id':iten_list,'knowledge_code':know_list})"
   ]
  },
  {
   "cell_type": "code",
   "execution_count": 8,
   "metadata": {},
   "outputs": [],
   "source": [
    "know_unique=np.unique(item_open_df['knowledge_code'])"
   ]
  },
  {
   "cell_type": "code",
   "execution_count": 9,
   "metadata": {},
   "outputs": [],
   "source": [
    "stu_unique=np.unique(record['user_id'])"
   ]
  },
  {
   "cell_type": "code",
   "execution_count": 10,
   "metadata": {},
   "outputs": [],
   "source": [
    "stu_old_new=dict(zip(stu_unique,range(1,len(stu_unique)+1)))\n",
    "item_old_new=dict(zip(item_unique,range(1,len(item_unique)+1)))\n",
    "know_old_new=dict(zip(know_unique,range(1,len(know_unique)+1)))\n",
    "know_id_level=dict(zip(conc_data['knowledge_code'],conc_data['level']))"
   ]
  },
  {
   "cell_type": "code",
   "execution_count": 11,
   "metadata": {},
   "outputs": [],
   "source": [
    "with open(save_dir+'dict_knowledge_code.json','w') as f:\n",
    "    dict_knowledge_code = {str(k):know_old_new[k] for k in  know_old_new.keys()}\n",
    "    json.dump(dict_knowledge_code,f)"
   ]
  },
  {
   "cell_type": "code",
   "execution_count": 12,
   "metadata": {},
   "outputs": [
    {
     "name": "stdout",
     "output_type": "stream",
     "text": [
      "Done\n"
     ]
    }
   ],
   "source": [
    "record['user_id']=record['user_id'].map(stu_old_new)\n",
    "record['item_id']=record['item_id'].map(item_old_new)\n",
    "\n",
    "item_open_df['item_id']=item_open_df['item_id'].map(item_old_new)\n",
    "tmp=item_open_df['knowledge_code']\n",
    "item_open_df['knowledge_code']=tmp.map(know_old_new)\n",
    "item_open_df['level']=tmp.map(know_id_level)\n",
    "\n",
    "conc_data['knowledge_code']=conc_data['knowledge_code'].map(know_old_new)\n",
    "conc_data['parent']=conc_data['parent'].map(know_old_new)\n",
    "\n",
    "conc_data.fillna(0)\n",
    "\n",
    "print('Done')"
   ]
  },
  {
   "cell_type": "code",
   "execution_count": 13,
   "metadata": {},
   "outputs": [],
   "source": [
    "item_open_df=item_open_df.set_index('item_id')\n",
    "\n",
    "item_df=pd.DataFrame(columns=['item_id','knowledge_code'],index=range(1,len(item_unique)+1))\n",
    "for item in range(1,len(item_unique)+1):\n",
    "    item_df.loc[item,'item_id']=item\n",
    "    level=np.array(item_open_df.loc[item,['level']]).reshape(-1)\n",
    "    low_level_idx=(level==level.max()) # 仅保留最低级别知识点\n",
    "    item_df.loc[item,'knowledge_code']=np.array(item_open_df.loc[item,['knowledge_code']]).reshape(-1)[low_level_idx].tolist()"
   ]
  },
  {
   "cell_type": "code",
   "execution_count": 22,
   "metadata": {},
   "outputs": [],
   "source": [
    "item_df.to_csv(save_dir+'item.csv',index=False)\n",
    "record.to_csv(save_dir+'record.csv',index=False)\n",
    "\n",
    "conc_data.to_csv(save_dir+'skill.csv',index=False)\n",
    "conc_conc=conc_data.loc[:,['knowledge_code','parent']].dropna(how='any').astype('int')\n",
    "conc_conc.to_csv(save_dir+'concept_relationship.csv',index=False)"
   ]
  },
  {
   "cell_type": "code",
   "execution_count": 23,
   "metadata": {},
   "outputs": [
    {
     "name": "stdout",
     "output_type": "stream",
     "text": [
      "学习者数： 118971\n",
      "习题数： 27613\n",
      "知识点数： 388\n",
      "记录数： 15867850\n"
     ]
    }
   ],
   "source": [
    "print('学习者数：',len(stu_unique))\n",
    "print('习题数：',len(item_unique))\n",
    "print('知识点数：',len(know_unique))\n",
    "print('记录数：',len(record))"
   ]
  }
 ],
 "metadata": {
  "interpreter": {
   "hash": "527a93331b4b1a8345148922acc34427fb7591433d63b66d32040b6fbbc6d593"
  },
  "kernelspec": {
   "display_name": "Python 3.8.12 ('pytorch')",
   "language": "python",
   "name": "python3"
  },
  "language_info": {
   "codemirror_mode": {
    "name": "ipython",
    "version": 3
   },
   "file_extension": ".py",
   "mimetype": "text/x-python",
   "name": "python",
   "nbconvert_exporter": "python",
   "pygments_lexer": "ipython3",
   "version": "3.8.12"
  },
  "orig_nbformat": 4
 },
 "nbformat": 4,
 "nbformat_minor": 2
}
